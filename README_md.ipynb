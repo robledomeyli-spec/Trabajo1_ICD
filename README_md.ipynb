{
  "nbformat": 4,
  "nbformat_minor": 0,
  "metadata": {
    "colab": {
      "provenance": []
    },
    "kernelspec": {
      "name": "python3",
      "display_name": "Python 3"
    },
    "language_info": {
      "name": "python"
    }
  },
  "cells": [
    {
      "cell_type": "markdown",
      "source": [
        "# Trabajo 1 – Análisis de Expectativas y Tipo de Cambio en Perú (2015–2025)\n",
        "\n",
        "Descripción:\n",
        "\n",
        "Este proyecto analiza la relación entre el tipo de cambio, la tasa de política monetaria (TPM) y las expectativas empresariales en Perú entre 2015 y 2025. Se utilizan datos oficiales del Banco Central de Reserva del Perú (BCRP) y se realiza un análisis exploratorio (EDA) para identificar patrones, relaciones y efectos de shocks como el Covid-19.\n",
        "\n",
        "Datos:\n",
        "\n",
        "- **Fuente**: Banco Central de Reserva del Perú (BCRP).  \n",
        "- **Series utilizadas**:  \n",
        "  - Tipo de cambio de compra  \n",
        "  - Tasa de política monetaria (TPM)  \n",
        "  - Expectativas de economía  \n",
        "  - Expectativas de demanda  \n",
        "  - Expectativas de sector  \n",
        "- **Última actualización**: julio 2025.\n",
        "\n",
        "Variables principales:\n",
        "\n",
        "- **Fecha**: Fecha del periodo (mensual). Formato en el dataset: `YYYY-MM-01` (se toma el primer día del mes). Rango del análisis: 2015-01 a 2025-07 (ajustar si se actualiza la fuente).\n",
        "\n",
        "- **Tipo_Cambio_Compra** (PN01214PM): Tipo de cambio interbancario — *compra* (S/ por US$), fin de periodo. Numérico, mensual. Indica el precio del dólar en soles; valores mayores = depreciación del sol.\n",
        "\n",
        "- **Tasa_Politica_Monetaria / TPM** (PD04722MM): Tasa de referencia de política monetaria del BCRP (% anual). Numérica, mensual. Instrumento principal de la política monetaria usado para influir inflación, liquidez y tipo de cambio.\n",
        "\n",
        "- **Expectativas_Economia** (PD37981AM): Índice de expectativas empresariales sobre la economía a 12 meses. Escala indexada (aprox. 0–100); valores >50 indican expectativa positiva / optimismo, <50 indican pesimismo.\n",
        "\n",
        "- **Venta_Según_Mes_Anterior** (PD38041AM): Índice que refleja la expectativa de ventas respecto al mes anterior. Indexado; útil para medir dinamismo de la demanda a corto plazo.\n",
        "\n",
        "- **Situacion_Negocio** (PD38044AM): Índice de la situación actual del negocio declarado por encuestados. Indexado; mide percepción presente (condición operativa y ventas actuales).\n",
        "\n",
        "- **Expectativas_Demanda** (PD39751AM): Índice de expectativas de demanda por sus productos a 12 meses. Indexado; mide la expectativa de mercado para el horizonte anual.\n",
        "\n",
        "- **Expectativas_Sector** (PD39752AM): Índice de expectativas del sector a 12 meses. Indexado; refleja la visión agregada del sector productivo al que pertenecen los encuestados.\n",
        "\n",
        "- **Expectativa_Tipo_Cambio** (Encuesta BCRP — archivo Excel): Expectativa reportada del tipo de cambio (p. ej. fin de año o horizonte a 12 meses). Numérica, se utiliza para contrastar expectativas de tipo de cambio con el TC observado.\n",
        "\n",
        "**Notas:**  \n",
        "- Todas las series son **mensuales** y provienen del Banco Central de Reserva del Perú (BCRP).  \n",
        "- Los índices de expectativas suelen interpretarse con el umbral **50**: por encima = optimismo, por debajo = pesimismo.  \n",
        "- En el CSV final (`dataset_final.csv`) las columnas usan exactamente los nombres anteriores para facilitar la reproducibilidad del notebook.\n",
        "\n",
        "\n",
        "Instrucciones de ejecución\n",
        "1. Clonar este repositorio.  \n",
        "   ```bash\n",
        "   git clone https://github.com/tu_usuario/Trabajo1_ICD.git\n",
        "   cd Trabajo1_ICD\n"
      ],
      "metadata": {
        "id": "evMGggpkCpff"
      }
    }
  ]
}