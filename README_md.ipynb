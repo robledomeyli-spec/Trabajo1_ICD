{
  "nbformat": 4,
  "nbformat_minor": 0,
  "metadata": {
    "colab": {
      "provenance": [],
      "authorship_tag": "ABX9TyPtBnSg+OTVPJ5mFITEDEoW",
      "include_colab_link": true
    },
    "kernelspec": {
      "name": "python3",
      "display_name": "Python 3"
    },
    "language_info": {
      "name": "python"
    }
  },
  "cells": [
    {
      "cell_type": "markdown",
      "metadata": {
        "id": "view-in-github",
        "colab_type": "text"
      },
      "source": [
        "<a href=\"https://colab.research.google.com/github/robledomeyli-spec/Trabajo1_ICD/blob/main/README_md.ipynb\" target=\"_parent\"><img src=\"https://colab.research.google.com/assets/colab-badge.svg\" alt=\"Open In Colab\"/></a>"
      ]
    },
    {
      "cell_type": "markdown",
      "source": [
        "**Análisis de Expectativas Empresariales y Tipo de Cambio en Perú (2015–2025)**\n",
        "\n",
        "\n",
        "**Descripción del proyecto:**\n",
        "\n",
        "Este proyecto analiza la relación entre las expectativas empresariales y el tipo de cambio en Perú durante el periodo 2015–2025, utilizando datos oficiales del Banco Central de Reserva del Perú (BCRP).\n",
        "\n",
        "El objetivo es explorar cómo las expectativas sobre la economía, la demanda y el sector empresarial se relacionan con la evolución del tipo de cambio y la tasa de política monetaria.\n",
        "\n",
        "**Archivos incluidos:**\n",
        "\n",
        "TRABAJO_1_ICD.ipynb → Notebook principal con todo el proceso (lectura, limpieza y análisis exploratorio).\n",
        "\n",
        "dataset_bcrp.csv → Dataset limpio en formato CSV.\n",
        "\n",
        "dataset_bcrp.xlsx → Dataset limpio en formato Excel.\n",
        "\n",
        "README.md → Documento explicativo del proyecto.\n",
        "\n",
        "**Variables principales:**\n",
        "\n",
        "Expectativas_Economia → Índice de expectativas sobre la economía a 12 meses.\n",
        "\n",
        "Expectativas_Demanda → Expectativas de demanda por productos a 12 meses.\n",
        "\n",
        "Expectativas_Sector → Expectativas sobre el sector a 12 meses.\n",
        "\n",
        "Tipo_Cambio_Compra → Tipo de cambio interbancario (S/ por US$) – compra.\n",
        "\n",
        "Tasa_Politica_Monetaria (TPM) → Tasa de referencia establecida por el BCRP.\n",
        "\n",
        "Todas las variables provienen de encuestas o series oficiales del BCRP.\n",
        "\n",
        "**Fuente de los datos**\n",
        "\n",
        "Los datos fueron obtenidos mediante el API del BCRP, que permite acceder a series estadísticas en formato JSON.\n",
        "\n",
        "Ejemplo de construcción de la URL:\n",
        "\n",
        "# 1. Importación de librerías\n",
        "import requests  \n",
        "import pandas as pd  \n",
        "import numpy as np  \n",
        "import json  \n",
        "\n",
        "# 2. Definir parámetros\n",
        "codigos = 'PN01214PM-PD38045AM-PD38047AM-PD38046AM-PD04722MM'  \n",
        "formato = 'json'  \n",
        "periodo_inicial = '2015-01'  \n",
        "periodo_final = '2025-07'  \n",
        "\n",
        "# 3. Construcción de la URL\n",
        "url = f\"https://estadisticas.bcrp.gob.pe/estadisticas/series/api/{codigos}/{formato}/{periodo_inicial}/{periodo_final}\"\n",
        "\n",
        "\n",
        "**Última actualización de datos**: julio 2025.\n",
        "\n",
        "Instrucciones de ejecución\n",
        "\n",
        "Clonar o descargar este repositorio.\n",
        "\n",
        "Instalar las librerías necesarias (si aún no las tienes):\n",
        "\n",
        "pip install pandas numpy requests openpyxl\n",
        "\n",
        "\n",
        "Abrir el notebook TRABAJO_1_ICD.ipynb en Jupyter o Google Colab.\n",
        "\n",
        "Ejecutar todas las celdas en orden:\n",
        "\n",
        "Lectura de datos desde el API.\n",
        "\n",
        "Limpieza y construcción del DataFrame.\n",
        "\n",
        "Análisis exploratorio de datos (EDA).\n",
        "\n",
        "El dataset limpio se exporta automáticamente como .csv y .xlsx."
      ],
      "metadata": {
        "id": "evMGggpkCpff"
      }
    }
  ]
}